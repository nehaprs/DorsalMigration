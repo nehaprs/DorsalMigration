{
 "cells": [
  {
   "cell_type": "code",
   "execution_count": null,
   "id": "e980c7c9",
   "metadata": {},
   "outputs": [],
   "source": [
    "#convert AnnData into sparse matrix to make it seurat compatible\n",
    "import anndata\n",
    "from scipy.sparse import csr_matrix"
   ]
  },
  {
   "cell_type": "code",
   "execution_count": 9,
   "id": "7d93c568",
   "metadata": {},
   "outputs": [
    {
     "name": "stderr",
     "output_type": "stream",
     "text": [
      "c:\\Users\\neha\\AppData\\Local\\Programs\\Python\\Python312\\Lib\\site-packages\\anndata\\_core\\anndata.py:1756: UserWarning: Observation names are not unique. To make them unique, call `.obs_names_make_unique`.\n",
      "  utils.warn_names_duplicates(\"obs\")\n"
     ]
    }
   ],
   "source": [
    "adata = anndata.read_h5ad(\"C:/Users/neha/Documents/BINF/scrnaseq general/dorsal migration/ref/all.S18.realigned.corrected.transferred.clustered.reannotated.h5ad\")"
   ]
  },
  {
   "cell_type": "code",
   "execution_count": 10,
   "id": "a509cdfe",
   "metadata": {},
   "outputs": [],
   "source": [
    "adata.X = csr_matrix(adata.X)"
   ]
  },
  {
   "cell_type": "code",
   "execution_count": 12,
   "id": "e0cd58f2",
   "metadata": {},
   "outputs": [],
   "source": [
    "adata.write_h5ad(\"C:/Users/neha/Documents/BINF/scrnaseq general/dorsal migration/ref/sparsed_s18ref.h5ad\")"
   ]
  }
 ],
 "metadata": {
  "kernelspec": {
   "display_name": "Python 3",
   "language": "python",
   "name": "python3"
  },
  "language_info": {
   "codemirror_mode": {
    "name": "ipython",
    "version": 3
   },
   "file_extension": ".py",
   "mimetype": "text/x-python",
   "name": "python",
   "nbconvert_exporter": "python",
   "pygments_lexer": "ipython3",
   "version": "3.12.4"
  }
 },
 "nbformat": 4,
 "nbformat_minor": 5
}
